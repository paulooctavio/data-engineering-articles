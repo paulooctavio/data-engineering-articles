{
 "cells": [
  {
   "cell_type": "code",
   "execution_count": 14,
   "metadata": {},
   "outputs": [],
   "source": [
    "from pyspark.sql import SparkSession\n",
    "from pyspark.sql.functions import col, avg, max, count, sum\n",
    "import random\n",
    "import os"
   ]
  },
  {
   "cell_type": "code",
   "execution_count": 15,
   "metadata": {},
   "outputs": [],
   "source": [
    "spark = SparkSession.builder.appName(\"CachingExample\").getOrCreate()\n",
    "\n",
    "# Surprass warnings\n",
    "spark.sparkContext.setLogLevel(\"ERROR\")"
   ]
  },
  {
   "cell_type": "code",
   "execution_count": 16,
   "metadata": {},
   "outputs": [
    {
     "name": "stderr",
     "output_type": "stream",
     "text": [
      "[Stage 0:>                                                          (0 + 1) / 1]\r"
     ]
    },
    {
     "name": "stdout",
     "output_type": "stream",
     "text": [
      "+--------------+----------+-----------+--------+\n",
      "|transaction_id|   product|customer_id|quantity|\n",
      "+--------------+----------+-----------+--------+\n",
      "|             1|Product715|        338|      14|\n",
      "|             2|Product529|       5393|      20|\n",
      "|             3|Product732|       4990|      14|\n",
      "|             4|Product605|       6916|       3|\n",
      "|             5|Product671|       3880|      14|\n",
      "+--------------+----------+-----------+--------+\n",
      "only showing top 5 rows\n",
      "\n"
     ]
    },
    {
     "name": "stderr",
     "output_type": "stream",
     "text": [
      "                                                                                \r"
     ]
    }
   ],
   "source": [
    "# Create a large DataFrame with user data\n",
    "data = [(i, \"Product\" + str(random.randint(1,1000)), random.randint(1,10000), random.randint(1,20)) for i in range(1, 2000001)]\n",
    "columns = [\"transaction_id\", \"product\", \"customer_id\", \"quantity\"]\n",
    "\n",
    "transactions = spark.createDataFrame(data, columns)\n",
    "transactions.show(5)"
   ]
  },
  {
   "cell_type": "code",
   "execution_count": 17,
   "metadata": {},
   "outputs": [
    {
     "name": "stderr",
     "output_type": "stream",
     "text": [
      "                                                                                \r"
     ]
    }
   ],
   "source": [
    "avg_quantity = transactions.agg(avg(\"quantity\")).collect()\n",
    "max_quantity = transactions.agg(max(\"quantity\")).collect()\n",
    "total_quantity = transactions.agg(sum(\"quantity\")).collect()\n",
    "total_quantity_by_product = (\n",
    "    transactions.groupBy(col(\"product\")).agg(sum(\"quantity\")).collect()\n",
    ")\n",
    "count_products_by_customer = (\n",
    "    transactions.groupBy(col(\"customer_id\")).agg(count(\"product\")).collect()\n",
    ")\n",
    "total_transactions = transactions.count()\n",
    "customer_count = transactions.select(\"customer_id\").distinct().count()"
   ]
  },
  {
   "cell_type": "code",
   "execution_count": 18,
   "metadata": {},
   "outputs": [
    {
     "name": "stderr",
     "output_type": "stream",
     "text": [
      "                                                                                \r"
     ]
    },
    {
     "data": {
      "text/plain": [
       "DataFrame[transaction_id: bigint, product: string, customer_id: bigint, quantity: bigint]"
      ]
     },
     "execution_count": 18,
     "metadata": {},
     "output_type": "execute_result"
    }
   ],
   "source": [
    "transactions = transactions.cache()\n",
    "\n",
    "avg_quantity = transactions.agg(avg(\"quantity\")).collect()\n",
    "max_quantity = transactions.agg(max(\"quantity\")).collect()\n",
    "total_quantity = transactions.agg(sum(\"quantity\")).collect()\n",
    "total_quantity_by_product = (\n",
    "    transactions.groupBy(col(\"product\")).agg(sum(\"quantity\")).collect()\n",
    ")\n",
    "count_products_by_customer = (\n",
    "    transactions.groupBy(col(\"customer_id\")).agg(count(\"product\")).collect()\n",
    ")\n",
    "total_transactions = transactions.count()\n",
    "customer_count = transactions.select(\"customer_id\").distinct().count()\n",
    "\n",
    "transactions.unpersist()"
   ]
  },
  {
   "cell_type": "code",
   "execution_count": 19,
   "metadata": {},
   "outputs": [],
   "source": [
    "\n",
    "# Stop the Spark session\n",
    "spark.stop()"
   ]
  },
  {
   "cell_type": "code",
   "execution_count": null,
   "metadata": {},
   "outputs": [],
   "source": []
  }
 ],
 "metadata": {
  "kernelspec": {
   "display_name": "Python 3 (ipykernel)",
   "language": "python",
   "name": "python3"
  },
  "language_info": {
   "codemirror_mode": {
    "name": "ipython",
    "version": 3
   },
   "file_extension": ".py",
   "mimetype": "text/x-python",
   "name": "python",
   "nbconvert_exporter": "python",
   "pygments_lexer": "ipython3",
   "version": "3.8.10"
  }
 },
 "nbformat": 4,
 "nbformat_minor": 2
}
