{
 "cells": [
  {
   "cell_type": "code",
   "execution_count": 1,
   "metadata": {},
   "outputs": [],
   "source": [
    "from pyspark.sql import SparkSession"
   ]
  },
  {
   "cell_type": "code",
   "execution_count": 2,
   "metadata": {},
   "outputs": [
    {
     "name": "stderr",
     "output_type": "stream",
     "text": [
      "24/06/10 16:01:41 WARN Utils: Your hostname, paulo resolves to a loopback address: 127.0.1.1; using 172.27.58.218 instead (on interface eth0)\n",
      "24/06/10 16:01:42 WARN Utils: Set SPARK_LOCAL_IP if you need to bind to another address\n",
      "Setting default log level to \"WARN\".\n",
      "To adjust logging level use sc.setLogLevel(newLevel). For SparkR, use setLogLevel(newLevel).\n",
      "24/06/10 16:01:44 WARN NativeCodeLoader: Unable to load native-hadoop library for your platform... using builtin-java classes where applicable\n"
     ]
    }
   ],
   "source": [
    "spark = SparkSession.builder.appName(\"LateralColumnAliasExample\").getOrCreate()"
   ]
  },
  {
   "cell_type": "code",
   "execution_count": 3,
   "metadata": {},
   "outputs": [],
   "source": [
    "# Sample data\n",
    "data = [(1, 1500, 300), (2, 2500, 450), (3, 3200, 500)]\n",
    "columns = [\"employee_id\", \"base_salary\", \"bonus\"]"
   ]
  },
  {
   "cell_type": "code",
   "execution_count": 4,
   "metadata": {},
   "outputs": [
    {
     "name": "stderr",
     "output_type": "stream",
     "text": [
      "                                                                                \r"
     ]
    },
    {
     "name": "stdout",
     "output_type": "stream",
     "text": [
      "+-----------+-----------+-----+\n",
      "|employee_id|base_salary|bonus|\n",
      "+-----------+-----------+-----+\n",
      "|          1|       1500|  300|\n",
      "|          2|       2500|  450|\n",
      "|          3|       3200|  500|\n",
      "+-----------+-----------+-----+\n",
      "\n"
     ]
    }
   ],
   "source": [
    "# Create DataFrame\n",
    "df = spark.createDataFrame(data, columns)\n",
    "df.show()"
   ]
  },
  {
   "cell_type": "code",
   "execution_count": 5,
   "metadata": {},
   "outputs": [],
   "source": [
    "# Register DataFrame as a SQL temporary view\n",
    "df.createOrReplaceTempView(\"employees\")"
   ]
  },
  {
   "cell_type": "code",
   "execution_count": 6,
   "metadata": {},
   "outputs": [
    {
     "name": "stdout",
     "output_type": "stream",
     "text": [
      "+-----------+------------------+-----+\n",
      "|employee_id|total_compensation|  tax|\n",
      "+-----------+------------------+-----+\n",
      "|          1|              1800|180.0|\n",
      "|          2|              2950|295.0|\n",
      "|          3|              3700|370.0|\n",
      "+-----------+------------------+-----+\n",
      "\n"
     ]
    }
   ],
   "source": [
    "query = \"\"\"\n",
    "WITH salary_details AS (\n",
    "    SELECT employee_id, \n",
    "           base_salary + bonus AS total_compensation\n",
    "    FROM employees\n",
    ")\n",
    "SELECT employee_id, \n",
    "       total_compensation, \n",
    "       total_compensation * 0.1 AS tax\n",
    "FROM salary_details\n",
    "\"\"\"\n",
    "result = spark.sql(query)\n",
    "result.show()"
   ]
  },
  {
   "cell_type": "code",
   "execution_count": 7,
   "metadata": {},
   "outputs": [
    {
     "name": "stdout",
     "output_type": "stream",
     "text": [
      "+-----------+------------------+-----+\n",
      "|employee_id|total_compensation|  tax|\n",
      "+-----------+------------------+-----+\n",
      "|          1|              1800|180.0|\n",
      "|          2|              2950|295.0|\n",
      "|          3|              3700|370.0|\n",
      "+-----------+------------------+-----+\n",
      "\n"
     ]
    }
   ],
   "source": [
    "query = \"\"\"\n",
    "SELECT employee_id, \n",
    "       base_salary + bonus AS total_compensation, \n",
    "       total_compensation * 0.1 AS tax\n",
    "FROM employees\n",
    "\"\"\"\n",
    "result = spark.sql(query)\n",
    "result.show()"
   ]
  }
 ],
 "metadata": {
  "kernelspec": {
   "display_name": "Python 3 (ipykernel)",
   "language": "python",
   "name": "python3"
  },
  "language_info": {
   "codemirror_mode": {
    "name": "ipython",
    "version": 3
   },
   "file_extension": ".py",
   "mimetype": "text/x-python",
   "name": "python",
   "nbconvert_exporter": "python",
   "pygments_lexer": "ipython3",
   "version": "3.8.10"
  }
 },
 "nbformat": 4,
 "nbformat_minor": 2
}
